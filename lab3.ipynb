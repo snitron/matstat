{
 "cells": [
  {
   "cell_type": "markdown",
   "metadata": {},
   "source": [
    "# Лабораторная работа #3\n",
    "### Варламов Никита, М33361; Гайнанов Ильдар, М33371;"
   ]
  },
  {
   "cell_type": "markdown",
   "metadata": {},
   "source": [
    "# Task 1"
   ]
  },
  {
   "cell_type": "markdown",
   "metadata": {},
   "source": [
    "Предъявите доверительный интервал уровня $1 - \\alpha$ для указанного параметра при данных предположениях (с математическими обоснованиями). Сгенерируйте 2 выборки объёма 25 и посчитайте доверительный интервал. Повторить 1000 раз. Посчитайте, сколько раз 95-процентный доверительный интервал покрывает реальное значение параметра. То же самое сделайте для объема выборки 10000. Как изменился результат? Как объяснить?\n",
    "Задача представлена в 4 вариантах. Везде даны две независимые выборки $X, Y$ из нормальных распределений $\\mathcal{N} (\\mu_1, \\sigma_1^2), \\mathcal{N} (\\mu_2, \\sigma_2^2)$ объема $n, m$ соответственно. Сначала указывается оцниваемая функция, потом данные об остальных параметрах, затем параметры эксперимента и подсказки."
   ]
  },
  {
   "cell_type": "markdown",
   "metadata": {
    "collapsed": false
   },
   "source": [
    "Оцениваем $\\tau = \\mu_1 - \\mu_2$. Известны $\\sigma_1^2, \\sigma_2^2$.\n",
    "Для эксперимента берём $\\mu_1 = 2, \\mu_2 = 1$\n",
    "\n",
    "Построим доверительный интервал по определению для функции статистики $\\frac{\\overline{X} - \\overline{Y} - \\tau}{\\sigma}$. Очевидно, что она распределена по $\\mathcal{N} (0, 1)$ ($\\overline{X} \\sim \\mathcal{N} \\left(\\mu_1, \\frac{\\sigma_1^2}{n}\\right)$, $\\overline{Y} \\sim \\mathcal{N} \\left(\\mu_2, \\frac{\\sigma_2^2}{n}\\right)$, $\\overline{X} - \\overline{Y} \\sim \\mathcal{N} \\left(\\mu_1 - \\mu_2, \\frac{\\sigma_1^2}{n} + \\frac{\\sigma_2^2}{n}\\right), \\ldots$\n",
    "\n",
    "По определению (квантили одинаковые, тк у нас нормальное распределение):\n",
    "\n",
    "$P\\left(-q_{1-\\frac{\\alpha}{2}} \\le \\frac{\\overline{X} - \\overline{Y} - \\tau}{\\sigma} \\le q_{1-\\frac{\\alpha}{2}}\\right) = 1 - \\alpha$\n",
    "\n",
    "Выражаем $\\tau$:\n",
    "\n",
    "$P\\left(\\tau \\in \\left[\\overline{X} - \\overline{Y} -q_{1-\\frac{\\alpha}{2}} \\sigma, \\overline{X} - \\overline{Y} +q_{1-\\frac{\\alpha}{2}} \\sigma\\right] \\right)$\n",
    "\n",
    "Проводим эксперимент:"
   ]
  },
  {
   "cell_type": "code",
   "execution_count": 1,
   "metadata": {
    "ExecuteTime": {
     "end_time": "2023-11-06T20:05:31.153635Z",
     "start_time": "2023-11-06T20:05:31.119260Z"
    }
   },
   "outputs": [],
   "source": [
    "import numpy as np\n",
    "import pandas as pd\n",
    "from scipy.stats import norm\n",
    "\n",
    "ns = [25, 10000]\n",
    "\n",
    "tau1 = 2\n",
    "tau2 = 1\n",
    "\n",
    "sigma1 = 1\n",
    "sigma2 = 0.5\n",
    "\n",
    "def experiment(n, count=1000):\n",
    "    dataX = np.random.normal(loc=tau1, scale=sigma1, size=(count, n))\n",
    "    dataY = np.random.normal(loc=tau2, scale=sigma2, size=(count, n))\n",
    "    \n",
    "    meanX = dataX.mean(axis=1)\n",
    "    meanY = dataY.mean(axis=1)\n",
    "    \n",
    "    quantile = norm.ppf(0.95, loc=0, scale=1)\n",
    "    sigma = np.sqrt(sigma1 / n + sigma2 / n)\n",
    "    \n",
    "    df = pd.DataFrame()\n",
    "    df['lower_bound'] = meanX - meanY - quantile * sigma\n",
    "    df['upper_bound'] = meanX - meanY + quantile * sigma\n",
    "    df['includes'] = ((df['lower_bound'] <= 1) & (df['upper_bound'] >= 1)).astype(bool)\n",
    " \n",
    "    return df"
   ]
  },
  {
   "cell_type": "code",
   "execution_count": 2,
   "metadata": {
    "ExecuteTime": {
     "end_time": "2023-11-06T20:05:32.274846Z",
     "start_time": "2023-11-06T20:05:32.262481Z"
    }
   },
   "outputs": [
    {
     "data": {
      "text/html": [
       "<div>\n",
       "<style scoped>\n",
       "    .dataframe tbody tr th:only-of-type {\n",
       "        vertical-align: middle;\n",
       "    }\n",
       "\n",
       "    .dataframe tbody tr th {\n",
       "        vertical-align: top;\n",
       "    }\n",
       "\n",
       "    .dataframe thead th {\n",
       "        text-align: right;\n",
       "    }\n",
       "</style>\n",
       "<table border=\"1\" class=\"dataframe\">\n",
       "  <thead>\n",
       "    <tr style=\"text-align: right;\">\n",
       "      <th></th>\n",
       "      <th>lower_bound</th>\n",
       "      <th>upper_bound</th>\n",
       "      <th>includes</th>\n",
       "    </tr>\n",
       "  </thead>\n",
       "  <tbody>\n",
       "    <tr>\n",
       "      <th>0</th>\n",
       "      <td>0.828144</td>\n",
       "      <td>1.633954</td>\n",
       "      <td>True</td>\n",
       "    </tr>\n",
       "    <tr>\n",
       "      <th>1</th>\n",
       "      <td>0.289975</td>\n",
       "      <td>1.095785</td>\n",
       "      <td>True</td>\n",
       "    </tr>\n",
       "    <tr>\n",
       "      <th>2</th>\n",
       "      <td>0.654391</td>\n",
       "      <td>1.460201</td>\n",
       "      <td>True</td>\n",
       "    </tr>\n",
       "    <tr>\n",
       "      <th>3</th>\n",
       "      <td>0.687897</td>\n",
       "      <td>1.493708</td>\n",
       "      <td>True</td>\n",
       "    </tr>\n",
       "    <tr>\n",
       "      <th>4</th>\n",
       "      <td>0.759017</td>\n",
       "      <td>1.564827</td>\n",
       "      <td>True</td>\n",
       "    </tr>\n",
       "    <tr>\n",
       "      <th>...</th>\n",
       "      <td>...</td>\n",
       "      <td>...</td>\n",
       "      <td>...</td>\n",
       "    </tr>\n",
       "    <tr>\n",
       "      <th>995</th>\n",
       "      <td>0.396545</td>\n",
       "      <td>1.202356</td>\n",
       "      <td>True</td>\n",
       "    </tr>\n",
       "    <tr>\n",
       "      <th>996</th>\n",
       "      <td>0.273035</td>\n",
       "      <td>1.078845</td>\n",
       "      <td>True</td>\n",
       "    </tr>\n",
       "    <tr>\n",
       "      <th>997</th>\n",
       "      <td>0.530575</td>\n",
       "      <td>1.336386</td>\n",
       "      <td>True</td>\n",
       "    </tr>\n",
       "    <tr>\n",
       "      <th>998</th>\n",
       "      <td>0.470167</td>\n",
       "      <td>1.275978</td>\n",
       "      <td>True</td>\n",
       "    </tr>\n",
       "    <tr>\n",
       "      <th>999</th>\n",
       "      <td>0.368911</td>\n",
       "      <td>1.174722</td>\n",
       "      <td>True</td>\n",
       "    </tr>\n",
       "  </tbody>\n",
       "</table>\n",
       "<p>1000 rows × 3 columns</p>\n",
       "</div>"
      ],
      "text/plain": [
       "     lower_bound  upper_bound  includes\n",
       "0       0.828144     1.633954      True\n",
       "1       0.289975     1.095785      True\n",
       "2       0.654391     1.460201      True\n",
       "3       0.687897     1.493708      True\n",
       "4       0.759017     1.564827      True\n",
       "..           ...          ...       ...\n",
       "995     0.396545     1.202356      True\n",
       "996     0.273035     1.078845      True\n",
       "997     0.530575     1.336386      True\n",
       "998     0.470167     1.275978      True\n",
       "999     0.368911     1.174722      True\n",
       "\n",
       "[1000 rows x 3 columns]"
      ]
     },
     "execution_count": 2,
     "metadata": {},
     "output_type": "execute_result"
    }
   ],
   "source": [
    "e25 = experiment(25)\n",
    "e25"
   ]
  },
  {
   "cell_type": "code",
   "execution_count": 3,
   "metadata": {
    "ExecuteTime": {
     "end_time": "2023-11-06T19:51:53.491390Z",
     "start_time": "2023-11-06T19:51:53.476411Z"
    },
    "collapsed": false
   },
   "outputs": [
    {
     "data": {
      "text/plain": [
       "('1 in interval', 921)"
      ]
     },
     "execution_count": 3,
     "metadata": {},
     "output_type": "execute_result"
    }
   ],
   "source": [
    "\"1 in interval\", len(e25[e25['includes'] == True])"
   ]
  },
  {
   "cell_type": "code",
   "execution_count": 4,
   "metadata": {
    "ExecuteTime": {
     "end_time": "2023-11-06T19:53:23.094804Z",
     "start_time": "2023-11-06T19:53:22.712981Z"
    },
    "collapsed": false
   },
   "outputs": [
    {
     "data": {
      "text/html": [
       "<div>\n",
       "<style scoped>\n",
       "    .dataframe tbody tr th:only-of-type {\n",
       "        vertical-align: middle;\n",
       "    }\n",
       "\n",
       "    .dataframe tbody tr th {\n",
       "        vertical-align: top;\n",
       "    }\n",
       "\n",
       "    .dataframe thead th {\n",
       "        text-align: right;\n",
       "    }\n",
       "</style>\n",
       "<table border=\"1\" class=\"dataframe\">\n",
       "  <thead>\n",
       "    <tr style=\"text-align: right;\">\n",
       "      <th></th>\n",
       "      <th>lower_bound</th>\n",
       "      <th>upper_bound</th>\n",
       "      <th>includes</th>\n",
       "    </tr>\n",
       "  </thead>\n",
       "  <tbody>\n",
       "    <tr>\n",
       "      <th>0</th>\n",
       "      <td>0.982176</td>\n",
       "      <td>1.022467</td>\n",
       "      <td>True</td>\n",
       "    </tr>\n",
       "    <tr>\n",
       "      <th>1</th>\n",
       "      <td>0.986712</td>\n",
       "      <td>1.027002</td>\n",
       "      <td>True</td>\n",
       "    </tr>\n",
       "    <tr>\n",
       "      <th>2</th>\n",
       "      <td>0.967795</td>\n",
       "      <td>1.008086</td>\n",
       "      <td>True</td>\n",
       "    </tr>\n",
       "    <tr>\n",
       "      <th>3</th>\n",
       "      <td>0.978156</td>\n",
       "      <td>1.018447</td>\n",
       "      <td>True</td>\n",
       "    </tr>\n",
       "    <tr>\n",
       "      <th>4</th>\n",
       "      <td>0.979272</td>\n",
       "      <td>1.019563</td>\n",
       "      <td>True</td>\n",
       "    </tr>\n",
       "    <tr>\n",
       "      <th>...</th>\n",
       "      <td>...</td>\n",
       "      <td>...</td>\n",
       "      <td>...</td>\n",
       "    </tr>\n",
       "    <tr>\n",
       "      <th>995</th>\n",
       "      <td>0.988458</td>\n",
       "      <td>1.028749</td>\n",
       "      <td>True</td>\n",
       "    </tr>\n",
       "    <tr>\n",
       "      <th>996</th>\n",
       "      <td>0.979867</td>\n",
       "      <td>1.020157</td>\n",
       "      <td>True</td>\n",
       "    </tr>\n",
       "    <tr>\n",
       "      <th>997</th>\n",
       "      <td>0.988241</td>\n",
       "      <td>1.028532</td>\n",
       "      <td>True</td>\n",
       "    </tr>\n",
       "    <tr>\n",
       "      <th>998</th>\n",
       "      <td>0.958260</td>\n",
       "      <td>0.998551</td>\n",
       "      <td>False</td>\n",
       "    </tr>\n",
       "    <tr>\n",
       "      <th>999</th>\n",
       "      <td>0.991712</td>\n",
       "      <td>1.032003</td>\n",
       "      <td>True</td>\n",
       "    </tr>\n",
       "  </tbody>\n",
       "</table>\n",
       "<p>1000 rows × 3 columns</p>\n",
       "</div>"
      ],
      "text/plain": [
       "     lower_bound  upper_bound  includes\n",
       "0       0.982176     1.022467      True\n",
       "1       0.986712     1.027002      True\n",
       "2       0.967795     1.008086      True\n",
       "3       0.978156     1.018447      True\n",
       "4       0.979272     1.019563      True\n",
       "..           ...          ...       ...\n",
       "995     0.988458     1.028749      True\n",
       "996     0.979867     1.020157      True\n",
       "997     0.988241     1.028532      True\n",
       "998     0.958260     0.998551     False\n",
       "999     0.991712     1.032003      True\n",
       "\n",
       "[1000 rows x 3 columns]"
      ]
     },
     "execution_count": 4,
     "metadata": {},
     "output_type": "execute_result"
    }
   ],
   "source": [
    "e10000 = experiment(10000)\n",
    "e10000"
   ]
  },
  {
   "cell_type": "code",
   "execution_count": 5,
   "metadata": {
    "ExecuteTime": {
     "end_time": "2023-11-06T19:53:27.745832Z",
     "start_time": "2023-11-06T19:53:27.726507Z"
    },
    "collapsed": false
   },
   "outputs": [
    {
     "data": {
      "text/plain": [
       "('1 in interval', 939)"
      ]
     },
     "execution_count": 5,
     "metadata": {},
     "output_type": "execute_result"
    }
   ],
   "source": [
    "\"1 in interval\", len(e10000[e10000['includes'] == True])"
   ]
  },
  {
   "cell_type": "markdown",
   "metadata": {
    "collapsed": false
   },
   "source": [
    "Как можно видеть, оценка достаточно точная в обоих экспериментах. Однако, сильно отличется длина интервала"
   ]
  },
  {
   "cell_type": "code",
   "execution_count": 6,
   "metadata": {
    "ExecuteTime": {
     "end_time": "2023-11-06T19:56:41.786900Z",
     "start_time": "2023-11-06T19:56:41.776286Z"
    },
    "collapsed": false
   },
   "outputs": [
    {
     "data": {
      "text/plain": [
       "0.8058104175194676"
      ]
     },
     "execution_count": 6,
     "metadata": {},
     "output_type": "execute_result"
    }
   ],
   "source": [
    "(e25['upper_bound'] - e25['lower_bound']).mean()"
   ]
  },
  {
   "cell_type": "code",
   "execution_count": 7,
   "metadata": {
    "ExecuteTime": {
     "end_time": "2023-11-06T19:57:12.366332Z",
     "start_time": "2023-11-06T19:57:12.354476Z"
    },
    "collapsed": false
   },
   "outputs": [
    {
     "data": {
      "text/plain": [
       "0.0402905208759733"
      ]
     },
     "execution_count": 7,
     "metadata": {},
     "output_type": "execute_result"
    }
   ],
   "source": [
    "(e10000['upper_bound'] - e10000['lower_bound']).mean()"
   ]
  },
  {
   "cell_type": "markdown",
   "metadata": {
    "collapsed": false
   },
   "source": [
    "# Task 2\n",
    "\n"
   ]
  },
  {
   "cell_type": "markdown",
   "metadata": {
    "collapsed": false
   },
   "source": [
    "$$ Geom(p): $$\n",
    "\n",
    "$$ P(X = x) = (1 - p)^{x - 1}\\cdot p$$\n",
    "\n",
    "$$ f_p = \\prod P_i = \\prod (1 - p)^{\\sum(x_i - 1)}\\cdot p^{n}$$\n",
    "\n",
    "$$ L(p) = \\sum ((x_i - 1)ln(1 - p) + ln(p))$$\n",
    "\n",
    "$$ L'(p) = \\dfrac{\\sum(1-x_i)}{1-p} + \\dfrac{n}{p}$$\n",
    "\n",
    "$$L  \\rightarrow max\\  \\text{в} \\  p = \\dfrac{n}{\\sum x_i} = \\dfrac{1}{\\overline{x}}$$\n",
    "\n",
    "$$\\overline{p} = \\dfrac{1}{\\overline{x}}$$\n",
    "\n",
    "$$P\\left(\\tau \\in \\left[\\overline{p} -q_{1-\\frac{\\alpha}{2}} \\sigma, \\overline{p} +q_{1-\\frac{\\alpha}{2}} \\sigma\\right] \\right)$$"
   ]
  },
  {
   "cell_type": "code",
   "execution_count": 8,
   "metadata": {},
   "outputs": [],
   "source": [
    "import numpy as np\n",
    "import pandas as pd\n",
    "from scipy.stats import rv_continuous, geom\n",
    "\n",
    "ns = [25, 10000]\n",
    "\n",
    "def experiment(n, count=1000, alpha=0.05):\n",
    "    data = np.random.normal(0.7, size=(count, n))\n",
    "    mean = data.mean(axis=1)\n",
    "    \n",
    "    quantile = geom.ppf(1 - alpha / 2, p=0.7)\n",
    "    sigma = np.sqrt(sigma1 / n + sigma2 / n)\n",
    "    \n",
    "    df = pd.DataFrame()\n",
    "    df['lower_bound'] = mean - quantile * sigma\n",
    "    df['upper_bound'] = mean + quantile * sigma\n",
    "    df['includes'] = ((df['lower_bound'] <= 0.7) & (df['upper_bound'] >= 0.7)).astype(bool)\n",
    " \n",
    "    return df"
   ]
  },
  {
   "cell_type": "code",
   "execution_count": 9,
   "metadata": {},
   "outputs": [
    {
     "data": {
      "text/plain": [
       "('1 in interval', 921)"
      ]
     },
     "execution_count": 9,
     "metadata": {},
     "output_type": "execute_result"
    }
   ],
   "source": [
    "\"1 in interval\", len(e25[e25['includes'] == True])"
   ]
  },
  {
   "cell_type": "code",
   "execution_count": 10,
   "metadata": {},
   "outputs": [
    {
     "data": {
      "text/html": [
       "<div>\n",
       "<style scoped>\n",
       "    .dataframe tbody tr th:only-of-type {\n",
       "        vertical-align: middle;\n",
       "    }\n",
       "\n",
       "    .dataframe tbody tr th {\n",
       "        vertical-align: top;\n",
       "    }\n",
       "\n",
       "    .dataframe thead th {\n",
       "        text-align: right;\n",
       "    }\n",
       "</style>\n",
       "<table border=\"1\" class=\"dataframe\">\n",
       "  <thead>\n",
       "    <tr style=\"text-align: right;\">\n",
       "      <th></th>\n",
       "      <th>lower_bound</th>\n",
       "      <th>upper_bound</th>\n",
       "      <th>includes</th>\n",
       "    </tr>\n",
       "  </thead>\n",
       "  <tbody>\n",
       "    <tr>\n",
       "      <th>0</th>\n",
       "      <td>0.632972</td>\n",
       "      <td>0.730951</td>\n",
       "      <td>True</td>\n",
       "    </tr>\n",
       "    <tr>\n",
       "      <th>1</th>\n",
       "      <td>0.660824</td>\n",
       "      <td>0.758804</td>\n",
       "      <td>True</td>\n",
       "    </tr>\n",
       "    <tr>\n",
       "      <th>2</th>\n",
       "      <td>0.634472</td>\n",
       "      <td>0.732451</td>\n",
       "      <td>True</td>\n",
       "    </tr>\n",
       "    <tr>\n",
       "      <th>3</th>\n",
       "      <td>0.661428</td>\n",
       "      <td>0.759408</td>\n",
       "      <td>True</td>\n",
       "    </tr>\n",
       "    <tr>\n",
       "      <th>4</th>\n",
       "      <td>0.657643</td>\n",
       "      <td>0.755623</td>\n",
       "      <td>True</td>\n",
       "    </tr>\n",
       "    <tr>\n",
       "      <th>...</th>\n",
       "      <td>...</td>\n",
       "      <td>...</td>\n",
       "      <td>...</td>\n",
       "    </tr>\n",
       "    <tr>\n",
       "      <th>995</th>\n",
       "      <td>0.639436</td>\n",
       "      <td>0.737415</td>\n",
       "      <td>True</td>\n",
       "    </tr>\n",
       "    <tr>\n",
       "      <th>996</th>\n",
       "      <td>0.663615</td>\n",
       "      <td>0.761594</td>\n",
       "      <td>True</td>\n",
       "    </tr>\n",
       "    <tr>\n",
       "      <th>997</th>\n",
       "      <td>0.633876</td>\n",
       "      <td>0.731856</td>\n",
       "      <td>True</td>\n",
       "    </tr>\n",
       "    <tr>\n",
       "      <th>998</th>\n",
       "      <td>0.621817</td>\n",
       "      <td>0.719797</td>\n",
       "      <td>True</td>\n",
       "    </tr>\n",
       "    <tr>\n",
       "      <th>999</th>\n",
       "      <td>0.647295</td>\n",
       "      <td>0.745275</td>\n",
       "      <td>True</td>\n",
       "    </tr>\n",
       "  </tbody>\n",
       "</table>\n",
       "<p>1000 rows × 3 columns</p>\n",
       "</div>"
      ],
      "text/plain": [
       "     lower_bound  upper_bound  includes\n",
       "0       0.632972     0.730951      True\n",
       "1       0.660824     0.758804      True\n",
       "2       0.634472     0.732451      True\n",
       "3       0.661428     0.759408      True\n",
       "4       0.657643     0.755623      True\n",
       "..           ...          ...       ...\n",
       "995     0.639436     0.737415      True\n",
       "996     0.663615     0.761594      True\n",
       "997     0.633876     0.731856      True\n",
       "998     0.621817     0.719797      True\n",
       "999     0.647295     0.745275      True\n",
       "\n",
       "[1000 rows x 3 columns]"
      ]
     },
     "execution_count": 10,
     "metadata": {},
     "output_type": "execute_result"
    }
   ],
   "source": [
    "e10000 = experiment(10000)\n",
    "e10000"
   ]
  },
  {
   "cell_type": "code",
   "execution_count": 11,
   "metadata": {},
   "outputs": [
    {
     "data": {
      "text/plain": [
       "('1 in interval', 1000)"
      ]
     },
     "execution_count": 11,
     "metadata": {},
     "output_type": "execute_result"
    }
   ],
   "source": [
    "\"1 in interval\", len(e10000[e10000['includes'] == True])"
   ]
  },
  {
   "cell_type": "code",
   "execution_count": 12,
   "metadata": {},
   "outputs": [
    {
     "data": {
      "text/plain": [
       "0.8058104175194676"
      ]
     },
     "execution_count": 12,
     "metadata": {},
     "output_type": "execute_result"
    }
   ],
   "source": [
    "(e25['upper_bound'] - e25['lower_bound']).mean()"
   ]
  },
  {
   "cell_type": "code",
   "execution_count": 13,
   "metadata": {},
   "outputs": [
    {
     "data": {
      "text/plain": [
       "0.09797958971132714"
      ]
     },
     "execution_count": 13,
     "metadata": {},
     "output_type": "execute_result"
    }
   ],
   "source": [
    "(e10000['upper_bound'] - e10000['lower_bound']).mean()"
   ]
  }
 ],
 "metadata": {
  "kernelspec": {
   "display_name": ".venv",
   "language": "python",
   "name": "python3"
  },
  "language_info": {
   "codemirror_mode": {
    "name": "ipython",
    "version": 3
   },
   "file_extension": ".py",
   "mimetype": "text/x-python",
   "name": "python",
   "nbconvert_exporter": "python",
   "pygments_lexer": "ipython3",
   "version": "3.11.5"
  }
 },
 "nbformat": 4,
 "nbformat_minor": 2
}
