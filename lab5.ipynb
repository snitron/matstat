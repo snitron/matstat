{
 "cells": [
  {
   "cell_type": "markdown",
   "id": "5e13c35963a88edf",
   "metadata": {
    "collapsed": false
   },
   "source": [
    "# Лабораторная работа #5\n",
    "### Варламов Никита, М33361; Гайнанов Ильдар, М33371;"
   ]
  },
  {
   "cell_type": "code",
   "execution_count": 1,
   "id": "initial_id",
   "metadata": {
    "ExecuteTime": {
     "end_time": "2023-12-17T14:54:28.315421Z",
     "start_time": "2023-12-17T14:54:28.310510Z"
    },
    "collapsed": true
   },
   "outputs": [],
   "source": [
    "import numpy as np\n",
    "import pandas as pd\n"
   ]
  },
  {
   "cell_type": "code",
   "execution_count": 2,
   "id": "10de02118dde31d4",
   "metadata": {
    "ExecuteTime": {
     "end_time": "2023-12-17T19:38:40.622209Z",
     "start_time": "2023-12-17T19:38:40.592258Z"
    },
    "collapsed": false
   },
   "outputs": [
    {
     "data": {
      "text/html": [
       "<div>\n",
       "<style scoped>\n",
       "    .dataframe tbody tr th:only-of-type {\n",
       "        vertical-align: middle;\n",
       "    }\n",
       "\n",
       "    .dataframe tbody tr th {\n",
       "        vertical-align: top;\n",
       "    }\n",
       "\n",
       "    .dataframe thead th {\n",
       "        text-align: right;\n",
       "    }\n",
       "</style>\n",
       "<table border=\"1\" class=\"dataframe\">\n",
       "  <thead>\n",
       "    <tr style=\"text-align: right;\">\n",
       "      <th></th>\n",
       "      <th>Manufacturer</th>\n",
       "      <th>Model</th>\n",
       "      <th>Type</th>\n",
       "      <th>Min.Price</th>\n",
       "      <th>Price</th>\n",
       "      <th>Max.Price</th>\n",
       "      <th>MPG.city</th>\n",
       "      <th>MPG.highway</th>\n",
       "      <th>AirBags</th>\n",
       "      <th>DriveTrain</th>\n",
       "      <th>...</th>\n",
       "      <th>Passengers</th>\n",
       "      <th>Length</th>\n",
       "      <th>Wheelbase</th>\n",
       "      <th>Width</th>\n",
       "      <th>Turn.circle</th>\n",
       "      <th>Rear.seat.room</th>\n",
       "      <th>Luggage.room</th>\n",
       "      <th>Weight</th>\n",
       "      <th>Origin</th>\n",
       "      <th>Make</th>\n",
       "    </tr>\n",
       "  </thead>\n",
       "  <tbody>\n",
       "    <tr>\n",
       "      <th>0</th>\n",
       "      <td>Acura</td>\n",
       "      <td>Integra</td>\n",
       "      <td>Small</td>\n",
       "      <td>12.9</td>\n",
       "      <td>15.9</td>\n",
       "      <td>18.8</td>\n",
       "      <td>25</td>\n",
       "      <td>31</td>\n",
       "      <td>NaN</td>\n",
       "      <td>Front</td>\n",
       "      <td>...</td>\n",
       "      <td>5</td>\n",
       "      <td>177</td>\n",
       "      <td>102</td>\n",
       "      <td>68</td>\n",
       "      <td>37</td>\n",
       "      <td>26.5</td>\n",
       "      <td>11.0</td>\n",
       "      <td>2705</td>\n",
       "      <td>non-USA</td>\n",
       "      <td>Acura Integra</td>\n",
       "    </tr>\n",
       "    <tr>\n",
       "      <th>1</th>\n",
       "      <td>Acura</td>\n",
       "      <td>Legend</td>\n",
       "      <td>Midsize</td>\n",
       "      <td>29.2</td>\n",
       "      <td>33.9</td>\n",
       "      <td>38.7</td>\n",
       "      <td>18</td>\n",
       "      <td>25</td>\n",
       "      <td>Driver &amp; Passenger</td>\n",
       "      <td>Front</td>\n",
       "      <td>...</td>\n",
       "      <td>5</td>\n",
       "      <td>195</td>\n",
       "      <td>115</td>\n",
       "      <td>71</td>\n",
       "      <td>38</td>\n",
       "      <td>30.0</td>\n",
       "      <td>15.0</td>\n",
       "      <td>3560</td>\n",
       "      <td>non-USA</td>\n",
       "      <td>Acura Legend</td>\n",
       "    </tr>\n",
       "    <tr>\n",
       "      <th>2</th>\n",
       "      <td>Audi</td>\n",
       "      <td>90</td>\n",
       "      <td>Compact</td>\n",
       "      <td>25.9</td>\n",
       "      <td>29.1</td>\n",
       "      <td>32.3</td>\n",
       "      <td>20</td>\n",
       "      <td>26</td>\n",
       "      <td>Driver only</td>\n",
       "      <td>Front</td>\n",
       "      <td>...</td>\n",
       "      <td>5</td>\n",
       "      <td>180</td>\n",
       "      <td>102</td>\n",
       "      <td>67</td>\n",
       "      <td>37</td>\n",
       "      <td>28.0</td>\n",
       "      <td>14.0</td>\n",
       "      <td>3375</td>\n",
       "      <td>non-USA</td>\n",
       "      <td>Audi 90</td>\n",
       "    </tr>\n",
       "    <tr>\n",
       "      <th>3</th>\n",
       "      <td>Audi</td>\n",
       "      <td>100</td>\n",
       "      <td>Midsize</td>\n",
       "      <td>30.8</td>\n",
       "      <td>37.7</td>\n",
       "      <td>44.6</td>\n",
       "      <td>19</td>\n",
       "      <td>26</td>\n",
       "      <td>Driver &amp; Passenger</td>\n",
       "      <td>Front</td>\n",
       "      <td>...</td>\n",
       "      <td>6</td>\n",
       "      <td>193</td>\n",
       "      <td>106</td>\n",
       "      <td>70</td>\n",
       "      <td>37</td>\n",
       "      <td>31.0</td>\n",
       "      <td>17.0</td>\n",
       "      <td>3405</td>\n",
       "      <td>non-USA</td>\n",
       "      <td>Audi 100</td>\n",
       "    </tr>\n",
       "    <tr>\n",
       "      <th>4</th>\n",
       "      <td>BMW</td>\n",
       "      <td>535i</td>\n",
       "      <td>Midsize</td>\n",
       "      <td>23.7</td>\n",
       "      <td>30.0</td>\n",
       "      <td>36.2</td>\n",
       "      <td>22</td>\n",
       "      <td>30</td>\n",
       "      <td>Driver only</td>\n",
       "      <td>Rear</td>\n",
       "      <td>...</td>\n",
       "      <td>4</td>\n",
       "      <td>186</td>\n",
       "      <td>109</td>\n",
       "      <td>69</td>\n",
       "      <td>39</td>\n",
       "      <td>27.0</td>\n",
       "      <td>13.0</td>\n",
       "      <td>3640</td>\n",
       "      <td>non-USA</td>\n",
       "      <td>BMW 535i</td>\n",
       "    </tr>\n",
       "    <tr>\n",
       "      <th>...</th>\n",
       "      <td>...</td>\n",
       "      <td>...</td>\n",
       "      <td>...</td>\n",
       "      <td>...</td>\n",
       "      <td>...</td>\n",
       "      <td>...</td>\n",
       "      <td>...</td>\n",
       "      <td>...</td>\n",
       "      <td>...</td>\n",
       "      <td>...</td>\n",
       "      <td>...</td>\n",
       "      <td>...</td>\n",
       "      <td>...</td>\n",
       "      <td>...</td>\n",
       "      <td>...</td>\n",
       "      <td>...</td>\n",
       "      <td>...</td>\n",
       "      <td>...</td>\n",
       "      <td>...</td>\n",
       "      <td>...</td>\n",
       "      <td>...</td>\n",
       "    </tr>\n",
       "    <tr>\n",
       "      <th>88</th>\n",
       "      <td>Volkswagen</td>\n",
       "      <td>Eurovan</td>\n",
       "      <td>Van</td>\n",
       "      <td>16.6</td>\n",
       "      <td>19.7</td>\n",
       "      <td>22.7</td>\n",
       "      <td>17</td>\n",
       "      <td>21</td>\n",
       "      <td>NaN</td>\n",
       "      <td>Front</td>\n",
       "      <td>...</td>\n",
       "      <td>7</td>\n",
       "      <td>187</td>\n",
       "      <td>115</td>\n",
       "      <td>72</td>\n",
       "      <td>38</td>\n",
       "      <td>34.0</td>\n",
       "      <td>NaN</td>\n",
       "      <td>3960</td>\n",
       "      <td>non-USA</td>\n",
       "      <td>Volkswagen Eurovan</td>\n",
       "    </tr>\n",
       "    <tr>\n",
       "      <th>89</th>\n",
       "      <td>Volkswagen</td>\n",
       "      <td>Passat</td>\n",
       "      <td>Compact</td>\n",
       "      <td>17.6</td>\n",
       "      <td>20.0</td>\n",
       "      <td>22.4</td>\n",
       "      <td>21</td>\n",
       "      <td>30</td>\n",
       "      <td>NaN</td>\n",
       "      <td>Front</td>\n",
       "      <td>...</td>\n",
       "      <td>5</td>\n",
       "      <td>180</td>\n",
       "      <td>103</td>\n",
       "      <td>67</td>\n",
       "      <td>35</td>\n",
       "      <td>31.5</td>\n",
       "      <td>14.0</td>\n",
       "      <td>2985</td>\n",
       "      <td>non-USA</td>\n",
       "      <td>Volkswagen Passat</td>\n",
       "    </tr>\n",
       "    <tr>\n",
       "      <th>90</th>\n",
       "      <td>Volkswagen</td>\n",
       "      <td>Corrado</td>\n",
       "      <td>Sporty</td>\n",
       "      <td>22.9</td>\n",
       "      <td>23.3</td>\n",
       "      <td>23.7</td>\n",
       "      <td>18</td>\n",
       "      <td>25</td>\n",
       "      <td>NaN</td>\n",
       "      <td>Front</td>\n",
       "      <td>...</td>\n",
       "      <td>4</td>\n",
       "      <td>159</td>\n",
       "      <td>97</td>\n",
       "      <td>66</td>\n",
       "      <td>36</td>\n",
       "      <td>26.0</td>\n",
       "      <td>15.0</td>\n",
       "      <td>2810</td>\n",
       "      <td>non-USA</td>\n",
       "      <td>Volkswagen Corrado</td>\n",
       "    </tr>\n",
       "    <tr>\n",
       "      <th>91</th>\n",
       "      <td>Volvo</td>\n",
       "      <td>240</td>\n",
       "      <td>Compact</td>\n",
       "      <td>21.8</td>\n",
       "      <td>22.7</td>\n",
       "      <td>23.5</td>\n",
       "      <td>21</td>\n",
       "      <td>28</td>\n",
       "      <td>Driver only</td>\n",
       "      <td>Rear</td>\n",
       "      <td>...</td>\n",
       "      <td>5</td>\n",
       "      <td>190</td>\n",
       "      <td>104</td>\n",
       "      <td>67</td>\n",
       "      <td>37</td>\n",
       "      <td>29.5</td>\n",
       "      <td>14.0</td>\n",
       "      <td>2985</td>\n",
       "      <td>non-USA</td>\n",
       "      <td>Volvo 240</td>\n",
       "    </tr>\n",
       "    <tr>\n",
       "      <th>92</th>\n",
       "      <td>Volvo</td>\n",
       "      <td>850</td>\n",
       "      <td>Midsize</td>\n",
       "      <td>24.8</td>\n",
       "      <td>26.7</td>\n",
       "      <td>28.5</td>\n",
       "      <td>20</td>\n",
       "      <td>28</td>\n",
       "      <td>Driver &amp; Passenger</td>\n",
       "      <td>Front</td>\n",
       "      <td>...</td>\n",
       "      <td>5</td>\n",
       "      <td>184</td>\n",
       "      <td>105</td>\n",
       "      <td>69</td>\n",
       "      <td>38</td>\n",
       "      <td>30.0</td>\n",
       "      <td>15.0</td>\n",
       "      <td>3245</td>\n",
       "      <td>non-USA</td>\n",
       "      <td>Volvo 850</td>\n",
       "    </tr>\n",
       "  </tbody>\n",
       "</table>\n",
       "<p>93 rows × 27 columns</p>\n",
       "</div>"
      ],
      "text/plain": [
       "   Manufacturer    Model     Type  Min.Price  Price  Max.Price  MPG.city   \n",
       "0         Acura  Integra    Small       12.9   15.9       18.8        25  \\\n",
       "1         Acura   Legend  Midsize       29.2   33.9       38.7        18   \n",
       "2          Audi       90  Compact       25.9   29.1       32.3        20   \n",
       "3          Audi      100  Midsize       30.8   37.7       44.6        19   \n",
       "4           BMW     535i  Midsize       23.7   30.0       36.2        22   \n",
       "..          ...      ...      ...        ...    ...        ...       ...   \n",
       "88   Volkswagen  Eurovan      Van       16.6   19.7       22.7        17   \n",
       "89   Volkswagen   Passat  Compact       17.6   20.0       22.4        21   \n",
       "90   Volkswagen  Corrado   Sporty       22.9   23.3       23.7        18   \n",
       "91        Volvo      240  Compact       21.8   22.7       23.5        21   \n",
       "92        Volvo      850  Midsize       24.8   26.7       28.5        20   \n",
       "\n",
       "    MPG.highway             AirBags DriveTrain  ... Passengers  Length   \n",
       "0            31                 NaN      Front  ...          5     177  \\\n",
       "1            25  Driver & Passenger      Front  ...          5     195   \n",
       "2            26         Driver only      Front  ...          5     180   \n",
       "3            26  Driver & Passenger      Front  ...          6     193   \n",
       "4            30         Driver only       Rear  ...          4     186   \n",
       "..          ...                 ...        ...  ...        ...     ...   \n",
       "88           21                 NaN      Front  ...          7     187   \n",
       "89           30                 NaN      Front  ...          5     180   \n",
       "90           25                 NaN      Front  ...          4     159   \n",
       "91           28         Driver only       Rear  ...          5     190   \n",
       "92           28  Driver & Passenger      Front  ...          5     184   \n",
       "\n",
       "    Wheelbase  Width  Turn.circle Rear.seat.room  Luggage.room  Weight   \n",
       "0         102     68           37           26.5          11.0    2705  \\\n",
       "1         115     71           38           30.0          15.0    3560   \n",
       "2         102     67           37           28.0          14.0    3375   \n",
       "3         106     70           37           31.0          17.0    3405   \n",
       "4         109     69           39           27.0          13.0    3640   \n",
       "..        ...    ...          ...            ...           ...     ...   \n",
       "88        115     72           38           34.0           NaN    3960   \n",
       "89        103     67           35           31.5          14.0    2985   \n",
       "90         97     66           36           26.0          15.0    2810   \n",
       "91        104     67           37           29.5          14.0    2985   \n",
       "92        105     69           38           30.0          15.0    3245   \n",
       "\n",
       "     Origin                Make  \n",
       "0   non-USA       Acura Integra  \n",
       "1   non-USA        Acura Legend  \n",
       "2   non-USA             Audi 90  \n",
       "3   non-USA            Audi 100  \n",
       "4   non-USA            BMW 535i  \n",
       "..      ...                 ...  \n",
       "88  non-USA  Volkswagen Eurovan  \n",
       "89  non-USA   Volkswagen Passat  \n",
       "90  non-USA  Volkswagen Corrado  \n",
       "91  non-USA           Volvo 240  \n",
       "92  non-USA           Volvo 850  \n",
       "\n",
       "[93 rows x 27 columns]"
      ]
     },
     "execution_count": 2,
     "metadata": {},
     "output_type": "execute_result"
    }
   ],
   "source": [
    "df = pd.read_csv('cars93.csv')\n",
    "df"
   ]
  },
  {
   "cell_type": "code",
   "execution_count": 3,
   "id": "720f553d73048f30",
   "metadata": {
    "ExecuteTime": {
     "end_time": "2023-12-17T19:38:41.296180Z",
     "start_time": "2023-12-17T19:38:41.292115Z"
    },
    "collapsed": false
   },
   "outputs": [
    {
     "data": {
      "text/plain": [
       "array([[15.9],\n",
       "       [33.9],\n",
       "       [29.1],\n",
       "       [37.7],\n",
       "       [30. ],\n",
       "       [15.7],\n",
       "       [20.8],\n",
       "       [23.7],\n",
       "       [26.3],\n",
       "       [34.7],\n",
       "       [40.1],\n",
       "       [13.4],\n",
       "       [11.4],\n",
       "       [15.1],\n",
       "       [15.9],\n",
       "       [16.3],\n",
       "       [16.6],\n",
       "       [18.8],\n",
       "       [38. ],\n",
       "       [18.4],\n",
       "       [15.8],\n",
       "       [29.5],\n",
       "       [ 9.2],\n",
       "       [11.3],\n",
       "       [13.3],\n",
       "       [19. ],\n",
       "       [15.6],\n",
       "       [25.8],\n",
       "       [12.2],\n",
       "       [19.3],\n",
       "       [ 7.4],\n",
       "       [10.1],\n",
       "       [11.3],\n",
       "       [15.9],\n",
       "       [14. ],\n",
       "       [19.9],\n",
       "       [20.2],\n",
       "       [20.9],\n",
       "       [ 8.4],\n",
       "       [12.5],\n",
       "       [19.8],\n",
       "       [12.1],\n",
       "       [17.5],\n",
       "       [ 8. ],\n",
       "       [10. ],\n",
       "       [10. ],\n",
       "       [13.9],\n",
       "       [47.9],\n",
       "       [28. ],\n",
       "       [35.2],\n",
       "       [34.3],\n",
       "       [36.1],\n",
       "       [ 8.3],\n",
       "       [11.6],\n",
       "       [16.5],\n",
       "       [19.1],\n",
       "       [32.5],\n",
       "       [31.9],\n",
       "       [61.9],\n",
       "       [14.1],\n",
       "       [14.9],\n",
       "       [10.3],\n",
       "       [26.1],\n",
       "       [11.8],\n",
       "       [15.7],\n",
       "       [19.1],\n",
       "       [21.5],\n",
       "       [13.5],\n",
       "       [16.3],\n",
       "       [19.5],\n",
       "       [20.7],\n",
       "       [14.4],\n",
       "       [ 9. ],\n",
       "       [11.1],\n",
       "       [17.7],\n",
       "       [18.5],\n",
       "       [24.4],\n",
       "       [28.7],\n",
       "       [11.1],\n",
       "       [ 8.4],\n",
       "       [10.9],\n",
       "       [19.5],\n",
       "       [ 8.6],\n",
       "       [ 9.8],\n",
       "       [18.4],\n",
       "       [18.2],\n",
       "       [22.7],\n",
       "       [ 9.1],\n",
       "       [19.7],\n",
       "       [20. ],\n",
       "       [23.3],\n",
       "       [22.7],\n",
       "       [26.7]])"
      ]
     },
     "execution_count": 3,
     "metadata": {},
     "output_type": "execute_result"
    }
   ],
   "source": [
    "city = np.array(df['MPG.city'])\n",
    "highway = np.array(df['MPG.highway'])\n",
    "horsepower = np.array(df['Horsepower'])\n",
    "free_coeff = np.ones(city.shape)\n",
    "price = np.array(df['Price'])[:, np.newaxis]\n",
    "X = np.array([free_coeff, city, highway, horsepower]).T\n",
    "\n",
    "price"
   ]
  },
  {
   "cell_type": "code",
   "execution_count": 4,
   "id": "acdbcd5605ae7485",
   "metadata": {
    "ExecuteTime": {
     "end_time": "2023-12-17T20:10:53.013725Z",
     "start_time": "2023-12-17T20:10:52.998775Z"
    },
    "collapsed": false
   },
   "outputs": [
    {
     "name": "stdout",
     "output_type": "stream",
     "text": [
      "Коэффициенты по формуле [ 6.68867892 -0.03860018 -0.17885863  0.13131383]\n"
     ]
    }
   ],
   "source": [
    "coef_matrix = np.dot(np.dot(np.linalg.inv(np.dot(X.T, X)), X.T), price)\n",
    "print(f'Коэффициенты по формуле {coef_matrix.T[0]}')"
   ]
  },
  {
   "cell_type": "code",
   "execution_count": 5,
   "id": "f21fb9961bed07bc",
   "metadata": {
    "ExecuteTime": {
     "end_time": "2023-12-17T20:10:53.818366Z",
     "start_time": "2023-12-17T20:10:53.814957Z"
    },
    "collapsed": false
   },
   "outputs": [
    {
     "name": "stdout",
     "output_type": "stream",
     "text": [
      "Коэффициенты sklearn [ 6.68867892 -0.03860018 -0.17885863  0.13131383]\n"
     ]
    }
   ],
   "source": [
    "from sklearn.linear_model import LinearRegression\n",
    "\n",
    "#проверим расчет используя библиотеку sklearn\n",
    "model = LinearRegression().fit(X, price)\n",
    "coef_sklearn = model.coef_.T\n",
    "coef_sklearn[0] = model.intercept_\n",
    "print(f'Коэффициенты sklearn {coef_sklearn.T[0]}')"
   ]
  },
  {
   "cell_type": "code",
   "execution_count": 6,
   "id": "c962cd48c0066488",
   "metadata": {
    "ExecuteTime": {
     "end_time": "2023-12-17T20:10:56.231096Z",
     "start_time": "2023-12-17T20:10:56.197882Z"
    },
    "collapsed": false
   },
   "outputs": [
    {
     "data": {
      "text/plain": [
       "array([[ 6.68867892],\n",
       "       [-0.03860018],\n",
       "       [-0.17885863],\n",
       "       [ 0.13131383]])"
      ]
     },
     "execution_count": 6,
     "metadata": {},
     "output_type": "execute_result"
    }
   ],
   "source": [
    "coef_matrix"
   ]
  },
  {
   "cell_type": "markdown",
   "id": "4eb6c2fab1a473c7",
   "metadata": {
    "collapsed": false
   },
   "source": [
    "Посчитаем остаточную дисперсию:"
   ]
  },
  {
   "cell_type": "markdown",
   "id": "e879a78a59d5ddb7",
   "metadata": {
    "collapsed": false
   },
   "source": []
  },
  {
   "cell_type": "code",
   "execution_count": 7,
   "id": "36c63d53921325c9",
   "metadata": {
    "ExecuteTime": {
     "end_time": "2023-12-17T19:38:21.154784Z",
     "start_time": "2023-12-17T19:38:21.146298Z"
    },
    "collapsed": false
   },
   "outputs": [
    {
     "data": {
      "text/plain": [
       "array([[15.9],\n",
       "       [33.9],\n",
       "       [29.1],\n",
       "       [37.7],\n",
       "       [30. ],\n",
       "       [15.7],\n",
       "       [20.8],\n",
       "       [23.7],\n",
       "       [26.3],\n",
       "       [34.7],\n",
       "       [40.1],\n",
       "       [13.4],\n",
       "       [11.4],\n",
       "       [15.1],\n",
       "       [15.9],\n",
       "       [16.3],\n",
       "       [16.6],\n",
       "       [18.8],\n",
       "       [38. ],\n",
       "       [18.4],\n",
       "       [15.8],\n",
       "       [29.5],\n",
       "       [ 9.2],\n",
       "       [11.3],\n",
       "       [13.3],\n",
       "       [19. ],\n",
       "       [15.6],\n",
       "       [25.8],\n",
       "       [12.2],\n",
       "       [19.3],\n",
       "       [ 7.4],\n",
       "       [10.1],\n",
       "       [11.3],\n",
       "       [15.9],\n",
       "       [14. ],\n",
       "       [19.9],\n",
       "       [20.2],\n",
       "       [20.9],\n",
       "       [ 8.4],\n",
       "       [12.5],\n",
       "       [19.8],\n",
       "       [12.1],\n",
       "       [17.5],\n",
       "       [ 8. ],\n",
       "       [10. ],\n",
       "       [10. ],\n",
       "       [13.9],\n",
       "       [47.9],\n",
       "       [28. ],\n",
       "       [35.2],\n",
       "       [34.3],\n",
       "       [36.1],\n",
       "       [ 8.3],\n",
       "       [11.6],\n",
       "       [16.5],\n",
       "       [19.1],\n",
       "       [32.5],\n",
       "       [31.9],\n",
       "       [61.9],\n",
       "       [14.1],\n",
       "       [14.9],\n",
       "       [10.3],\n",
       "       [26.1],\n",
       "       [11.8],\n",
       "       [15.7],\n",
       "       [19.1],\n",
       "       [21.5],\n",
       "       [13.5],\n",
       "       [16.3],\n",
       "       [19.5],\n",
       "       [20.7],\n",
       "       [14.4],\n",
       "       [ 9. ],\n",
       "       [11.1],\n",
       "       [17.7],\n",
       "       [18.5],\n",
       "       [24.4],\n",
       "       [28.7],\n",
       "       [11.1],\n",
       "       [ 8.4],\n",
       "       [10.9],\n",
       "       [19.5],\n",
       "       [ 8.6],\n",
       "       [ 9.8],\n",
       "       [18.4],\n",
       "       [18.2],\n",
       "       [22.7],\n",
       "       [ 9.1],\n",
       "       [19.7],\n",
       "       [20. ],\n",
       "       [23.3],\n",
       "       [22.7],\n",
       "       [26.7]])"
      ]
     },
     "execution_count": 7,
     "metadata": {},
     "output_type": "execute_result"
    }
   ],
   "source": [
    "np.dot(coef_matrix.T[0], X[92])\n",
    "price"
   ]
  },
  {
   "cell_type": "code",
   "execution_count": 8,
   "id": "309652642bbfbcff",
   "metadata": {
    "ExecuteTime": {
     "end_time": "2023-12-17T19:15:24.750452Z",
     "start_time": "2023-12-17T19:15:24.746503Z"
    },
    "collapsed": false
   },
   "outputs": [
    {
     "data": {
      "text/plain": [
       "array([18.56299351, 27.78517645, 23.85233016, 23.89093034, 27.78699325,\n",
       "       14.73937908, 23.27058543, 25.23610016, 23.44944405, 27.86237681,\n",
       "       40.33719085, 13.72928541, 14.08700267, 21.9574471 , 15.13569652,\n",
       "       24.20347874, 24.199286  , 23.70550304, 40.95515983, 20.9996501 ,\n",
       "       19.30808358, 20.56948436, 11.7478116 , 12.82616101, 14.14167527,\n",
       "       20.92300887, 14.18027545, 41.09541828, 11.7478116 , 29.00979386,\n",
       "        7.86251011, 17.11197268, 13.61641994, 14.44052718, 15.49760651,\n",
       "       21.57300935, 18.89625285, 26.2931795 ,  3.19240012, 10.91000788,\n",
       "       21.22787033, 10.23398545, 18.60159369, 10.30335945, 16.93548999,\n",
       "       11.68475351, 17.89566293, 38.60283141, 25.99432759, 31.4257395 ,\n",
       "       22.39236472, 28.91945614,  9.71923877, 12.69428805, 21.13934942,\n",
       "       22.05491263, 35.04603739, 17.80057334, 29.97891141, 14.28193372,\n",
       "       19.68888772, 11.7478116 , 28.22666274, 14.11146058, 20.09359064,\n",
       "       21.74711611, 22.237964  , 20.57130117, 14.7007789 , 24.20347874,\n",
       "       23.27058543, 12.51598855,  7.87609325, 14.7007789 , 21.9574471 ,\n",
       "       27.38885901, 23.27058543, 19.65028754,  9.97292182,  8.38301357,\n",
       "       12.17616053, 17.50591417,  6.68431924,  9.60343824, 17.72756572,\n",
       "       17.72337298, 20.18029474, 10.45776016, 16.58965241, 18.10836986,\n",
       "       24.89627214, 15.83981047, 22.96935758])"
      ]
     },
     "execution_count": 8,
     "metadata": {},
     "output_type": "execute_result"
    }
   ],
   "source": [
    "def f(coeff, X):\n",
    "    return np.dot(coeff, X)\n",
    "\n",
    "predicted_price = []\n",
    "for i in range(X.shape[0]):\n",
    "    predicted_price.append(f(coef_matrix.T[0], X[i]))\n",
    "\n",
    "predicted_price = np.array(predicted_price)\n",
    "predicted_price"
   ]
  },
  {
   "cell_type": "code",
   "execution_count": 9,
   "id": "f77766219a139856",
   "metadata": {
    "ExecuteTime": {
     "end_time": "2023-12-17T19:15:25.285931Z",
     "start_time": "2023-12-17T19:15:25.284324Z"
    },
    "collapsed": false
   },
   "outputs": [],
   "source": [
    "var = np.var(price - predicted_price)"
   ]
  },
  {
   "cell_type": "code",
   "execution_count": 10,
   "id": "3348a4cfc383b6eb",
   "metadata": {
    "ExecuteTime": {
     "end_time": "2023-12-17T19:15:25.756427Z",
     "start_time": "2023-12-17T19:15:25.753565Z"
    },
    "collapsed": false
   },
   "outputs": [
    {
     "data": {
      "text/plain": [
       "150.44317796119884"
      ]
     },
     "execution_count": 10,
     "metadata": {},
     "output_type": "execute_result"
    }
   ],
   "source": [
    "var"
   ]
  },
  {
   "cell_type": "code",
   "execution_count": 11,
   "id": "1838f1081a3f57b",
   "metadata": {
    "ExecuteTime": {
     "end_time": "2023-12-17T19:15:34.313111Z",
     "start_time": "2023-12-17T19:15:34.298771Z"
    },
    "collapsed": false
   },
   "outputs": [
    {
     "data": {
      "text/plain": [
       "array([[15.9],\n",
       "       [33.9],\n",
       "       [29.1],\n",
       "       [37.7],\n",
       "       [30. ],\n",
       "       [15.7],\n",
       "       [20.8],\n",
       "       [23.7],\n",
       "       [26.3],\n",
       "       [34.7],\n",
       "       [40.1],\n",
       "       [13.4],\n",
       "       [11.4],\n",
       "       [15.1],\n",
       "       [15.9],\n",
       "       [16.3],\n",
       "       [16.6],\n",
       "       [18.8],\n",
       "       [38. ],\n",
       "       [18.4],\n",
       "       [15.8],\n",
       "       [29.5],\n",
       "       [ 9.2],\n",
       "       [11.3],\n",
       "       [13.3],\n",
       "       [19. ],\n",
       "       [15.6],\n",
       "       [25.8],\n",
       "       [12.2],\n",
       "       [19.3],\n",
       "       [ 7.4],\n",
       "       [10.1],\n",
       "       [11.3],\n",
       "       [15.9],\n",
       "       [14. ],\n",
       "       [19.9],\n",
       "       [20.2],\n",
       "       [20.9],\n",
       "       [ 8.4],\n",
       "       [12.5],\n",
       "       [19.8],\n",
       "       [12.1],\n",
       "       [17.5],\n",
       "       [ 8. ],\n",
       "       [10. ],\n",
       "       [10. ],\n",
       "       [13.9],\n",
       "       [47.9],\n",
       "       [28. ],\n",
       "       [35.2],\n",
       "       [34.3],\n",
       "       [36.1],\n",
       "       [ 8.3],\n",
       "       [11.6],\n",
       "       [16.5],\n",
       "       [19.1],\n",
       "       [32.5],\n",
       "       [31.9],\n",
       "       [61.9],\n",
       "       [14.1],\n",
       "       [14.9],\n",
       "       [10.3],\n",
       "       [26.1],\n",
       "       [11.8],\n",
       "       [15.7],\n",
       "       [19.1],\n",
       "       [21.5],\n",
       "       [13.5],\n",
       "       [16.3],\n",
       "       [19.5],\n",
       "       [20.7],\n",
       "       [14.4],\n",
       "       [ 9. ],\n",
       "       [11.1],\n",
       "       [17.7],\n",
       "       [18.5],\n",
       "       [24.4],\n",
       "       [28.7],\n",
       "       [11.1],\n",
       "       [ 8.4],\n",
       "       [10.9],\n",
       "       [19.5],\n",
       "       [ 8.6],\n",
       "       [ 9.8],\n",
       "       [18.4],\n",
       "       [18.2],\n",
       "       [22.7],\n",
       "       [ 9.1],\n",
       "       [19.7],\n",
       "       [20. ],\n",
       "       [23.3],\n",
       "       [22.7],\n",
       "       [26.7]])"
      ]
     },
     "execution_count": 11,
     "metadata": {},
     "output_type": "execute_result"
    }
   ],
   "source": [
    "price"
   ]
  },
  {
   "cell_type": "code",
   "execution_count": 12,
   "id": "feb38bca9c8890ab",
   "metadata": {
    "ExecuteTime": {
     "end_time": "2023-12-17T19:42:54.069362Z",
     "start_time": "2023-12-17T19:42:54.066746Z"
    },
    "collapsed": false
   },
   "outputs": [
    {
     "name": "stdout",
     "output_type": "stream",
     "text": [
      "r2_score 0.41248143168929163\n"
     ]
    }
   ],
   "source": [
    "from sklearn.metrics import r2_score\n",
    "\n",
    "print(\"r2_score\", r2_score(predicted_price, price))"
   ]
  },
  {
   "cell_type": "markdown",
   "id": "71ddbf6f2c48bfee",
   "metadata": {
    "collapsed": false
   },
   "source": [
    "#### Доверительный интервал для коэффициентов. \n",
    "Учитывая, что на лекции доказывалось, что:\n",
    "![image](st1.png)\n",
    "\n",
    "Можно вывести (по определению доверительного интервала):\n",
    "$P\\left(-t_{1-\\frac{\\alpha}{2}} \\le \\frac{c^T(\\hat{\\theta}_j - \\theta_j)}{\\hat{\\sigma}\\sqrt{c^T(X^TX)^{-1}_{jj}}c} \\le t_{1-\\frac{\\alpha}{2}}\\right) = 1 - \\alpha$\n",
    "\n",
    "$\\hat{\\theta_j} - t_{1-\\frac{\\alpha}{2}} \\cdot \\hat{\\sigma}\\sqrt{(X^TX)^{-1}_{jj}} \\le \\theta_j \\le \\hat{\\theta_j} + t_{1-\\frac{\\alpha}{2}} \\cdot \\hat{\\sigma}\\sqrt{(X^TX)^{-1}_{jj}}$"
   ]
  },
  {
   "cell_type": "code",
   "execution_count": 13,
   "id": "e8a6490f86aa5540",
   "metadata": {
    "ExecuteTime": {
     "end_time": "2023-12-17T19:31:14.033170Z",
     "start_time": "2023-12-17T19:31:14.011909Z"
    },
    "collapsed": false
   },
   "outputs": [
    {
     "data": {
      "text/plain": [
       "1.9869786993737677"
      ]
     },
     "execution_count": 13,
     "metadata": {},
     "output_type": "execute_result"
    }
   ],
   "source": [
    "from scipy.stats import t\n",
    "\n",
    "n = X.shape[0] # количество выборок\n",
    "k = coef_matrix.T[0].size # количество коэффициентов\n",
    "alpha = 0.05\n",
    "\n",
    "quantile = t.ppf(1 - alpha / 2, n - k)\n",
    "quantile"
   ]
  },
  {
   "cell_type": "code",
   "execution_count": 14,
   "id": "35ecb71c2ac39724",
   "metadata": {
    "ExecuteTime": {
     "end_time": "2023-12-17T19:31:14.649006Z",
     "start_time": "2023-12-17T19:31:14.646467Z"
    },
    "collapsed": false
   },
   "outputs": [],
   "source": [
    "def rss(X, y):\n",
    "    return np.sum((X - y) ** 2)"
   ]
  },
  {
   "cell_type": "code",
   "execution_count": 15,
   "id": "dbae89e82bebc437",
   "metadata": {
    "ExecuteTime": {
     "end_time": "2023-12-17T19:31:15.033144Z",
     "start_time": "2023-12-17T19:31:15.027975Z"
    },
    "collapsed": false
   },
   "outputs": [
    {
     "data": {
      "text/plain": [
       "1301183.0461864087"
      ]
     },
     "execution_count": 15,
     "metadata": {},
     "output_type": "execute_result"
    }
   ],
   "source": [
    "rss(predicted_price, price)"
   ]
  },
  {
   "cell_type": "code",
   "execution_count": 16,
   "id": "17d488d18a5542f8",
   "metadata": {
    "ExecuteTime": {
     "end_time": "2023-12-17T19:31:19.313251Z",
     "start_time": "2023-12-17T19:31:19.300261Z"
    },
    "collapsed": false
   },
   "outputs": [
    {
     "data": {
      "text/plain": [
       "120.91333353610585"
      ]
     },
     "execution_count": 16,
     "metadata": {},
     "output_type": "execute_result"
    }
   ],
   "source": [
    "sigma = np.sqrt(rss(predicted_price, price) / (n - k))\n",
    "sigma"
   ]
  },
  {
   "cell_type": "code",
   "execution_count": 17,
   "id": "caa80a1184792109",
   "metadata": {
    "ExecuteTime": {
     "end_time": "2023-12-17T19:58:57.031081Z",
     "start_time": "2023-12-17T19:58:56.988863Z"
    },
    "collapsed": false
   },
   "outputs": [],
   "source": [
    "xtx = np.linalg.inv(np.dot(X.T, X))\n",
    "\n",
    "def get_j(j):\n",
    "    return sigma * xtx[j][j]\n",
    "\n",
    "theta_hat = coef_matrix.T[0]\n",
    "\n",
    "theta_result_left = []\n",
    "theta_result_right = []\n",
    "\n",
    "def se(q, j):\n",
    "    return q * get_j(j)\n",
    "\n",
    "for i in range(4):\n",
    "    theta_result_left.append(theta_hat[i] - se(quantile, i))\n",
    "    theta_result_right.append(theta_hat[i] + se(quantile, i))\n",
    "    \n",
    "theta_result_left = np.array(theta_result_left)\n",
    "theta_result_right = np.array(theta_result_right)"
   ]
  },
  {
   "cell_type": "code",
   "execution_count": 18,
   "id": "3bb53e47cc184050",
   "metadata": {
    "ExecuteTime": {
     "end_time": "2023-12-17T19:58:57.966605Z",
     "start_time": "2023-12-17T19:58:57.960387Z"
    },
    "collapsed": false
   },
   "outputs": [
    {
     "data": {
      "text/plain": [
       "array([-2.34684983e+02, -8.96841616e-01, -1.02533683e+00,  1.29567815e-01])"
      ]
     },
     "execution_count": 18,
     "metadata": {},
     "output_type": "execute_result"
    }
   ],
   "source": [
    "theta_result_left # левая граница"
   ]
  },
  {
   "cell_type": "code",
   "execution_count": 19,
   "id": "5f9533de230af81d",
   "metadata": {
    "ExecuteTime": {
     "end_time": "2023-12-17T19:58:58.637408Z",
     "start_time": "2023-12-17T19:58:58.630419Z"
    },
    "collapsed": false
   },
   "outputs": [
    {
     "data": {
      "text/plain": [
       "array([2.48062341e+02, 8.19641259e-01, 6.67619580e-01, 1.33059850e-01])"
      ]
     },
     "execution_count": 19,
     "metadata": {},
     "output_type": "execute_result"
    }
   ],
   "source": [
    "theta_result_right # правая граница"
   ]
  },
  {
   "cell_type": "markdown",
   "id": "f694e1c6c553c5ca",
   "metadata": {
    "collapsed": false
   },
   "source": [
    "Для дисперсии же:\n",
    "\n",
    "![image](khi2.png)\n",
    "\n",
    "Тогда доверительный интервал: \n",
    "$\\frac{RSS}{\\chi^2_{\\frac{\\alpha}{2}}} \\le \\sigma^2 \\le \\frac{RSS}{\\chi^2_{1-\\frac{\\alpha}{2}}}$"
   ]
  },
  {
   "cell_type": "code",
   "execution_count": 20,
   "id": "7ba5a2fc4800eb1d",
   "metadata": {
    "ExecuteTime": {
     "end_time": "2023-12-17T19:50:06.861033Z",
     "start_time": "2023-12-17T19:50:06.842281Z"
    },
    "collapsed": false
   },
   "outputs": [
    {
     "data": {
      "text/plain": [
       "(116.98907954358143, 64.79336148515908)"
      ]
     },
     "execution_count": 20,
     "metadata": {},
     "output_type": "execute_result"
    }
   ],
   "source": [
    "from scipy.stats import chi2\n",
    "\n",
    "\n",
    "quantile_chi2_half = chi2.ppf(1 - alpha / 2, n - k)\n",
    "quantile_chi2_one_and_half = chi2.ppf(alpha / 2, n - k)\n",
    "\n",
    "quantile_chi2_half, quantile_chi2_one_and_half"
   ]
  },
  {
   "cell_type": "markdown",
   "id": "d568b4d46fd954cc",
   "metadata": {
    "collapsed": false
   },
   "source": [
    "Доверительные интервалы для дисперсии: \n"
   ]
  },
  {
   "cell_type": "code",
   "execution_count": 21,
   "id": "9bb6081d9f34f8b7",
   "metadata": {
    "ExecuteTime": {
     "end_time": "2023-12-17T19:51:30.914744Z",
     "start_time": "2023-12-17T19:51:30.887818Z"
    },
    "collapsed": false
   },
   "outputs": [
    {
     "data": {
      "text/plain": [
       "(11122.260738034824, 20082.042609943066)"
      ]
     },
     "execution_count": 21,
     "metadata": {},
     "output_type": "execute_result"
    }
   ],
   "source": [
    "left = rss(predicted_price, price) / quantile_chi2_half\n",
    "right = rss(predicted_price, price) / quantile_chi2_one_and_half\n",
    "\n",
    "left, right"
   ]
  },
  {
   "cell_type": "code",
   "execution_count": 22,
   "id": "6d10553db6cfc7ff",
   "metadata": {
    "ExecuteTime": {
     "end_time": "2023-12-17T19:51:45.652631Z",
     "start_time": "2023-12-17T19:51:45.629009Z"
    },
    "collapsed": false
   },
   "outputs": [
    {
     "data": {
      "text/plain": [
       "(105.46212940214522, 141.71112380453084)"
      ]
     },
     "execution_count": 22,
     "metadata": {},
     "output_type": "execute_result"
    }
   ],
   "source": [
    "np.sqrt(left), np.sqrt(right)"
   ]
  },
  {
   "cell_type": "markdown",
   "id": "fcae6aa307fc2895",
   "metadata": {
    "collapsed": false
   },
   "source": [
    "А теперь посчитаем статистический тест (t-тест), и узнаем, влияют ли коэффициенты (он проверяет, что $H_0$ коэфф = 0 и не влияет. Если оказалось, что $\\frac{\\hat{\\theta}_i}{se(i)} > t_{1-\\frac{\\alpha}{2}}$, то отвергаем $H_0$ ):"
   ]
  },
  {
   "cell_type": "code",
   "execution_count": 23,
   "id": "cbbd2ad4abd7b61c",
   "metadata": {
    "ExecuteTime": {
     "end_time": "2023-12-17T19:59:09.885484Z",
     "start_time": "2023-12-17T19:59:09.881429Z"
    },
    "collapsed": false
   },
   "outputs": [],
   "source": [
    "test_value = t.ppf(1 - alpha / 2, n - k)"
   ]
  },
  {
   "cell_type": "markdown",
   "id": "65a8c233",
   "metadata": {},
   "source": [
    "$\\frac{\\hat{\\theta}_i}{se(\\hat{\\theta}_i)} > t$, где $se$ --- стандартная ошибка"
   ]
  },
  {
   "cell_type": "code",
   "execution_count": 24,
   "id": "4eab858b23c3781a",
   "metadata": {
    "ExecuteTime": {
     "end_time": "2023-12-17T20:00:39.008434Z",
     "start_time": "2023-12-17T20:00:39.005895Z"
    },
    "collapsed": false
   },
   "outputs": [
    {
     "data": {
      "text/plain": [
       "1"
      ]
     },
     "execution_count": 24,
     "metadata": {},
     "output_type": "execute_result"
    }
   ],
   "source": [
    "def check_coeff(pos, test_value):\n",
    "    if theta_hat[pos] / np.sqrt(get_j(pos)) > test_value: \n",
    "        return 1\n",
    "    else:\n",
    "        return 0\n",
    "\n",
    "check_coeff(3, test_value)"
   ]
  },
  {
   "cell_type": "markdown",
   "id": "257f734ca46fd854",
   "metadata": {
    "collapsed": false
   },
   "source": [
    "Мощность --- влияет"
   ]
  },
  {
   "cell_type": "code",
   "execution_count": 25,
   "id": "d62a82b6450bdd44",
   "metadata": {
    "ExecuteTime": {
     "end_time": "2023-12-17T20:01:12.401401Z",
     "start_time": "2023-12-17T20:01:12.376280Z"
    },
    "collapsed": false
   },
   "outputs": [
    {
     "data": {
      "text/plain": [
       "0"
      ]
     },
     "execution_count": 25,
     "metadata": {},
     "output_type": "execute_result"
    }
   ],
   "source": [
    "check_coeff(2, test_value)"
   ]
  },
  {
   "cell_type": "markdown",
   "id": "a9013709e361fd3b",
   "metadata": {
    "collapsed": false
   },
   "source": [
    "Расход в городе --- не влияет"
   ]
  },
  {
   "cell_type": "code",
   "execution_count": 26,
   "id": "a09f6f879e43e3ce",
   "metadata": {
    "ExecuteTime": {
     "end_time": "2023-12-17T20:04:07.078339Z",
     "start_time": "2023-12-17T20:04:07.074703Z"
    },
    "collapsed": false
   },
   "outputs": [
    {
     "data": {
      "text/plain": [
       "True"
      ]
     },
     "execution_count": 26,
     "metadata": {},
     "output_type": "execute_result"
    }
   ],
   "source": [
    "check_coeff(1, test_value) == check_coeff(2, test_value)"
   ]
  },
  {
   "cell_type": "markdown",
   "id": "4110d99ddfde377e",
   "metadata": {
    "collapsed": false
   },
   "source": [
    "Они оба не влияют => $H_0$ выполнена"
   ]
  },
  {
   "cell_type": "markdown",
   "id": "53a7323c0998cd4c",
   "metadata": {
    "collapsed": false
   },
   "source": [
    "# Task 2\n"
   ]
  },
  {
   "cell_type": "markdown",
   "id": "b0a1843948fc6daf",
   "metadata": {
    "collapsed": false
   },
   "source": [
    "Требуется проверить гипотезу о равенстве средних на каждом уровне фактора с помощью модели однофакторного дисперсионного анализа.\n"
   ]
  },
  {
   "cell_type": "markdown",
   "id": "d59867f7b7ab45ee",
   "metadata": {
    "collapsed": false
   },
   "source": [
    "## Calculate data\n"
   ]
  },
  {
   "cell_type": "code",
   "execution_count": 27,
   "id": "c571c0506c9793aa",
   "metadata": {
    "ExecuteTime": {
     "end_time": "2023-12-17T20:09:09.413220Z",
     "start_time": "2023-12-17T20:09:09.398405Z"
    },
    "collapsed": false
   },
   "outputs": [
    {
     "data": {
      "text/html": [
       "<div>\n",
       "<style scoped>\n",
       "    .dataframe tbody tr th:only-of-type {\n",
       "        vertical-align: middle;\n",
       "    }\n",
       "\n",
       "    .dataframe tbody tr th {\n",
       "        vertical-align: top;\n",
       "    }\n",
       "\n",
       "    .dataframe thead th {\n",
       "        text-align: right;\n",
       "    }\n",
       "</style>\n",
       "<table border=\"1\" class=\"dataframe\">\n",
       "  <thead>\n",
       "    <tr style=\"text-align: right;\">\n",
       "      <th></th>\n",
       "      <th>Sepal.Length</th>\n",
       "      <th>Sepal.Width</th>\n",
       "      <th>Petal.Length</th>\n",
       "      <th>Petal.Width</th>\n",
       "      <th>Species</th>\n",
       "      <th>TotalArea</th>\n",
       "    </tr>\n",
       "  </thead>\n",
       "  <tbody>\n",
       "    <tr>\n",
       "      <th>0</th>\n",
       "      <td>5.1</td>\n",
       "      <td>3.5</td>\n",
       "      <td>1.4</td>\n",
       "      <td>0.2</td>\n",
       "      <td>setosa</td>\n",
       "      <td>18.13</td>\n",
       "    </tr>\n",
       "    <tr>\n",
       "      <th>1</th>\n",
       "      <td>4.9</td>\n",
       "      <td>3.0</td>\n",
       "      <td>1.4</td>\n",
       "      <td>0.2</td>\n",
       "      <td>setosa</td>\n",
       "      <td>14.98</td>\n",
       "    </tr>\n",
       "    <tr>\n",
       "      <th>2</th>\n",
       "      <td>4.7</td>\n",
       "      <td>3.2</td>\n",
       "      <td>1.3</td>\n",
       "      <td>0.2</td>\n",
       "      <td>setosa</td>\n",
       "      <td>15.30</td>\n",
       "    </tr>\n",
       "    <tr>\n",
       "      <th>3</th>\n",
       "      <td>4.6</td>\n",
       "      <td>3.1</td>\n",
       "      <td>1.5</td>\n",
       "      <td>0.2</td>\n",
       "      <td>setosa</td>\n",
       "      <td>14.56</td>\n",
       "    </tr>\n",
       "    <tr>\n",
       "      <th>4</th>\n",
       "      <td>5.0</td>\n",
       "      <td>3.6</td>\n",
       "      <td>1.4</td>\n",
       "      <td>0.2</td>\n",
       "      <td>setosa</td>\n",
       "      <td>18.28</td>\n",
       "    </tr>\n",
       "    <tr>\n",
       "      <th>...</th>\n",
       "      <td>...</td>\n",
       "      <td>...</td>\n",
       "      <td>...</td>\n",
       "      <td>...</td>\n",
       "      <td>...</td>\n",
       "      <td>...</td>\n",
       "    </tr>\n",
       "    <tr>\n",
       "      <th>145</th>\n",
       "      <td>6.7</td>\n",
       "      <td>3.0</td>\n",
       "      <td>5.2</td>\n",
       "      <td>2.3</td>\n",
       "      <td>virginica</td>\n",
       "      <td>32.06</td>\n",
       "    </tr>\n",
       "    <tr>\n",
       "      <th>146</th>\n",
       "      <td>6.3</td>\n",
       "      <td>2.5</td>\n",
       "      <td>5.0</td>\n",
       "      <td>1.9</td>\n",
       "      <td>virginica</td>\n",
       "      <td>25.25</td>\n",
       "    </tr>\n",
       "    <tr>\n",
       "      <th>147</th>\n",
       "      <td>6.5</td>\n",
       "      <td>3.0</td>\n",
       "      <td>5.2</td>\n",
       "      <td>2.0</td>\n",
       "      <td>virginica</td>\n",
       "      <td>29.90</td>\n",
       "    </tr>\n",
       "    <tr>\n",
       "      <th>148</th>\n",
       "      <td>6.2</td>\n",
       "      <td>3.4</td>\n",
       "      <td>5.4</td>\n",
       "      <td>2.3</td>\n",
       "      <td>virginica</td>\n",
       "      <td>33.50</td>\n",
       "    </tr>\n",
       "    <tr>\n",
       "      <th>149</th>\n",
       "      <td>5.9</td>\n",
       "      <td>3.0</td>\n",
       "      <td>5.1</td>\n",
       "      <td>1.8</td>\n",
       "      <td>virginica</td>\n",
       "      <td>26.88</td>\n",
       "    </tr>\n",
       "  </tbody>\n",
       "</table>\n",
       "<p>150 rows × 6 columns</p>\n",
       "</div>"
      ],
      "text/plain": [
       "     Sepal.Length  Sepal.Width  Petal.Length  Petal.Width    Species   \n",
       "0             5.1          3.5           1.4          0.2     setosa  \\\n",
       "1             4.9          3.0           1.4          0.2     setosa   \n",
       "2             4.7          3.2           1.3          0.2     setosa   \n",
       "3             4.6          3.1           1.5          0.2     setosa   \n",
       "4             5.0          3.6           1.4          0.2     setosa   \n",
       "..            ...          ...           ...          ...        ...   \n",
       "145           6.7          3.0           5.2          2.3  virginica   \n",
       "146           6.3          2.5           5.0          1.9  virginica   \n",
       "147           6.5          3.0           5.2          2.0  virginica   \n",
       "148           6.2          3.4           5.4          2.3  virginica   \n",
       "149           5.9          3.0           5.1          1.8  virginica   \n",
       "\n",
       "     TotalArea  \n",
       "0        18.13  \n",
       "1        14.98  \n",
       "2        15.30  \n",
       "3        14.56  \n",
       "4        18.28  \n",
       "..         ...  \n",
       "145      32.06  \n",
       "146      25.25  \n",
       "147      29.90  \n",
       "148      33.50  \n",
       "149      26.88  \n",
       "\n",
       "[150 rows x 6 columns]"
      ]
     },
     "metadata": {},
     "output_type": "display_data"
    },
    {
     "data": {
      "text/plain": [
       "array([[18.13, 14.98, 15.3 , 14.56, 18.28, 21.74, 16.06, 17.3 , 13.04,\n",
       "        15.34, 20.28, 16.64, 14.54, 13.01, 23.44, 25.68, 21.58, 18.27,\n",
       "        22.17, 19.83, 18.7 , 19.47, 16.76, 17.68, 16.7 , 15.32, 17.64,\n",
       "        18.5 , 17.96, 15.36, 15.2 , 18.96, 21.47, 23.38, 15.49, 16.24,\n",
       "        19.51, 17.78, 13.46, 17.64, 17.89, 10.74, 14.34, 18.46, 20.14,\n",
       "        14.82, 19.7 , 15.  , 19.91, 16.78],\n",
       "       [28.98, 27.23, 28.74, 17.85, 25.1 , 21.81, 28.31, 15.06, 25.12,\n",
       "        19.5 , 13.5 , 24.  , 17.2 , 24.27, 20.92, 26.93, 23.55, 19.76,\n",
       "        20.39, 18.29, 27.52, 22.28, 23.1 , 22.72, 24.15, 25.96, 25.76,\n",
       "        28.6 , 24.15, 18.32, 17.38, 16.9 , 20.34, 24.36, 22.95, 27.6 ,\n",
       "        27.82, 20.21, 22.13, 18.95, 19.58, 24.74, 19.88, 14.8 , 20.58,\n",
       "        22.14, 21.99, 23.57, 16.05, 21.29],\n",
       "       [35.79, 25.35, 33.69, 28.35, 32.26, 36.66, 19.9 , 32.51, 27.19,\n",
       "        41.17, 31.  , 27.35, 31.95, 24.25, 28.48, 32.67, 29.4 , 44.  ,\n",
       "        35.89, 20.7 , 35.19, 25.48, 34.96, 25.83, 34.08, 33.84, 26.  ,\n",
       "        27.12, 29.68, 30.88, 32.31, 42.82, 30.24, 25.29, 23.7 , 37.13,\n",
       "        34.86, 29.74, 26.64, 32.73, 34.21, 33.12, 25.35, 35.33, 36.36,\n",
       "        32.06, 25.25, 29.9 , 33.5 , 26.88]])"
      ]
     },
     "execution_count": 27,
     "metadata": {},
     "output_type": "execute_result"
    }
   ],
   "source": [
    "import pandas as pd\n",
    "import numpy as np\n",
    "\n",
    "df = pd.read_csv(\"iris.csv\")\n",
    "df[\"TotalArea\"] = df[\"Sepal.Length\"] * df[\"Sepal.Width\"] + df[\"Petal.Length\"] * df[\"Petal.Width\"]\n",
    "display(df)\n",
    "\n",
    "splitted = np.array(list(map(lambda x: x[1], df.groupby(\"Species\")[\"TotalArea\"])))\n",
    "splitted"
   ]
  },
  {
   "cell_type": "markdown",
   "id": "935432133a3ea189",
   "metadata": {
    "collapsed": false
   },
   "source": [
    "## Формулировка гипотезы\n",
    "\n",
    "$H_0$: Средняя площадь чашелистика + цветка равна у разных подвидов ириса\n",
    "\n",
    "$H_1$: Средняя площадь чашелистика + цветка отличается у разных подвидов ириса"
   ]
  },
  {
   "cell_type": "markdown",
   "id": "a57a5d1d0f88d0cc",
   "metadata": {
    "collapsed": false
   },
   "source": [
    "### Проверка библиотечным методом\n"
   ]
  },
  {
   "cell_type": "code",
   "execution_count": 28,
   "id": "8943a626da029a03",
   "metadata": {
    "ExecuteTime": {
     "end_time": "2023-12-17T20:09:37.613180Z",
     "start_time": "2023-12-17T20:09:37.598242Z"
    },
    "collapsed": false
   },
   "outputs": [
    {
     "data": {
      "text/plain": [
       "F_onewayResult(statistic=133.29723648348485, pvalue=9.540732260908254e-34)"
      ]
     },
     "execution_count": 28,
     "metadata": {},
     "output_type": "execute_result"
    }
   ],
   "source": [
    "from scipy.stats import f_oneway\n",
    "\n",
    "f_oneway(*splitted)"
   ]
  },
  {
   "cell_type": "markdown",
   "id": "c27354ffa26c119",
   "metadata": {
    "collapsed": false
   },
   "source": [
    "$\\text{p-value} \\ \\ll 0.05 \\Rightarrow H_0 \\ \\text{опровергнута в пользу} \\ H_1$ "
   ]
  },
  {
   "cell_type": "markdown",
   "id": "796756d467724246",
   "metadata": {
    "collapsed": false
   },
   "source": [
    "### Реализация\n"
   ]
  },
  {
   "cell_type": "code",
   "execution_count": 29,
   "id": "6a580d476097b91f",
   "metadata": {
    "ExecuteTime": {
     "end_time": "2023-12-17T20:10:06.249511Z",
     "start_time": "2023-12-17T20:10:06.244572Z"
    },
    "collapsed": false
   },
   "outputs": [
    {
     "data": {
      "text/plain": [
       "{'F-statistic': 133.29723648348494, 'p-value': 1.1102230246251565e-16}"
      ]
     },
     "execution_count": 29,
     "metadata": {},
     "output_type": "execute_result"
    }
   ],
   "source": [
    "from scipy.special import betainc\n",
    "\n",
    "def anova(data: np.ndarray):\n",
    "    I = data.size\n",
    "    J = len(data)\n",
    "    m = data.mean()\n",
    "    s = data.var()\n",
    "    \n",
    "    def calc_SSBetweenGroups(data):\n",
    "        l = 0\n",
    "        for group in data:\n",
    "            l += group.sum() ** 2 / len(group)  \n",
    "        \n",
    "        r = data.sum() ** 2 / I\n",
    "        \n",
    "        return l - r\n",
    "        \n",
    "    def calc_SSInGroups(data):\n",
    "        l = (data ** 2).sum()\n",
    "        \n",
    "        r = 0\n",
    "        for group in data:\n",
    "            r += group.sum() ** 2 / len(group)  \n",
    "        \n",
    "        return l - r\n",
    "    \n",
    "    def f_cdf(x, a, b):\n",
    "        return betainc(a / 2, b / 2, a * x / (a * x + b))\n",
    "    \n",
    "    SSBetweenGroups = calc_SSBetweenGroups(data)\n",
    "    SSInGroups = calc_SSInGroups(data)\n",
    "    \n",
    "    DFBetweenGroups = J - 1\n",
    "    DFInGroups = I - J\n",
    "\n",
    "    MSBetweenGroups = SSBetweenGroups / DFBetweenGroups\n",
    "    MSInGroups = SSInGroups / DFInGroups\n",
    "    \n",
    "    F = MSBetweenGroups / MSInGroups\n",
    "    p_value = 1 - f_cdf(F, DFBetweenGroups, DFInGroups)\n",
    "    return {\n",
    "        \"F-statistic\": F,\n",
    "        \"p-value\": p_value,\n",
    "    }\n",
    "\n",
    "anova(splitted)"
   ]
  },
  {
   "cell_type": "markdown",
   "id": "b6ca0ce16afcb601",
   "metadata": {
    "collapsed": false
   },
   "source": [
    "Мы видим, что значение p-value значительно меньше 0.05, таким образом, гипотеза $H_0$ опровергается, и мы говорим, что площадь не может не зависеть от сорта ириса."
   ]
  }
 ],
 "metadata": {
  "kernelspec": {
   "display_name": "Python 3",
   "language": "python",
   "name": "python3"
  },
  "language_info": {
   "codemirror_mode": {
    "name": "ipython",
    "version": 3
   },
   "file_extension": ".py",
   "mimetype": "text/x-python",
   "name": "python",
   "nbconvert_exporter": "python",
   "pygments_lexer": "ipython3",
   "version": "3.11.6"
  }
 },
 "nbformat": 4,
 "nbformat_minor": 5
}
