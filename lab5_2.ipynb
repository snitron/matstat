{
 "cells": [
  {
   "cell_type": "markdown",
   "metadata": {},
   "source": [
    "# Task 2"
   ]
  },
  {
   "cell_type": "markdown",
   "metadata": {},
   "source": [
    "Требуется проверить гипотезу о равенстве средних на каждом уровне фактора с помощью модели однофакторного дисперсионного анализа."
   ]
  },
  {
   "cell_type": "markdown",
   "metadata": {},
   "source": [
    "## Calculate data"
   ]
  },
  {
   "cell_type": "code",
   "execution_count": 1,
   "metadata": {},
   "outputs": [
    {
     "data": {
      "text/html": [
       "<div>\n",
       "<style scoped>\n",
       "    .dataframe tbody tr th:only-of-type {\n",
       "        vertical-align: middle;\n",
       "    }\n",
       "\n",
       "    .dataframe tbody tr th {\n",
       "        vertical-align: top;\n",
       "    }\n",
       "\n",
       "    .dataframe thead th {\n",
       "        text-align: right;\n",
       "    }\n",
       "</style>\n",
       "<table border=\"1\" class=\"dataframe\">\n",
       "  <thead>\n",
       "    <tr style=\"text-align: right;\">\n",
       "      <th></th>\n",
       "      <th>Sepal.Length</th>\n",
       "      <th>Sepal.Width</th>\n",
       "      <th>Petal.Length</th>\n",
       "      <th>Petal.Width</th>\n",
       "      <th>Species</th>\n",
       "      <th>TotalArea</th>\n",
       "    </tr>\n",
       "  </thead>\n",
       "  <tbody>\n",
       "    <tr>\n",
       "      <th>0</th>\n",
       "      <td>5.1</td>\n",
       "      <td>3.5</td>\n",
       "      <td>1.4</td>\n",
       "      <td>0.2</td>\n",
       "      <td>setosa</td>\n",
       "      <td>18.13</td>\n",
       "    </tr>\n",
       "    <tr>\n",
       "      <th>1</th>\n",
       "      <td>4.9</td>\n",
       "      <td>3.0</td>\n",
       "      <td>1.4</td>\n",
       "      <td>0.2</td>\n",
       "      <td>setosa</td>\n",
       "      <td>14.98</td>\n",
       "    </tr>\n",
       "    <tr>\n",
       "      <th>2</th>\n",
       "      <td>4.7</td>\n",
       "      <td>3.2</td>\n",
       "      <td>1.3</td>\n",
       "      <td>0.2</td>\n",
       "      <td>setosa</td>\n",
       "      <td>15.30</td>\n",
       "    </tr>\n",
       "    <tr>\n",
       "      <th>3</th>\n",
       "      <td>4.6</td>\n",
       "      <td>3.1</td>\n",
       "      <td>1.5</td>\n",
       "      <td>0.2</td>\n",
       "      <td>setosa</td>\n",
       "      <td>14.56</td>\n",
       "    </tr>\n",
       "    <tr>\n",
       "      <th>4</th>\n",
       "      <td>5.0</td>\n",
       "      <td>3.6</td>\n",
       "      <td>1.4</td>\n",
       "      <td>0.2</td>\n",
       "      <td>setosa</td>\n",
       "      <td>18.28</td>\n",
       "    </tr>\n",
       "    <tr>\n",
       "      <th>...</th>\n",
       "      <td>...</td>\n",
       "      <td>...</td>\n",
       "      <td>...</td>\n",
       "      <td>...</td>\n",
       "      <td>...</td>\n",
       "      <td>...</td>\n",
       "    </tr>\n",
       "    <tr>\n",
       "      <th>145</th>\n",
       "      <td>6.7</td>\n",
       "      <td>3.0</td>\n",
       "      <td>5.2</td>\n",
       "      <td>2.3</td>\n",
       "      <td>virginica</td>\n",
       "      <td>32.06</td>\n",
       "    </tr>\n",
       "    <tr>\n",
       "      <th>146</th>\n",
       "      <td>6.3</td>\n",
       "      <td>2.5</td>\n",
       "      <td>5.0</td>\n",
       "      <td>1.9</td>\n",
       "      <td>virginica</td>\n",
       "      <td>25.25</td>\n",
       "    </tr>\n",
       "    <tr>\n",
       "      <th>147</th>\n",
       "      <td>6.5</td>\n",
       "      <td>3.0</td>\n",
       "      <td>5.2</td>\n",
       "      <td>2.0</td>\n",
       "      <td>virginica</td>\n",
       "      <td>29.90</td>\n",
       "    </tr>\n",
       "    <tr>\n",
       "      <th>148</th>\n",
       "      <td>6.2</td>\n",
       "      <td>3.4</td>\n",
       "      <td>5.4</td>\n",
       "      <td>2.3</td>\n",
       "      <td>virginica</td>\n",
       "      <td>33.50</td>\n",
       "    </tr>\n",
       "    <tr>\n",
       "      <th>149</th>\n",
       "      <td>5.9</td>\n",
       "      <td>3.0</td>\n",
       "      <td>5.1</td>\n",
       "      <td>1.8</td>\n",
       "      <td>virginica</td>\n",
       "      <td>26.88</td>\n",
       "    </tr>\n",
       "  </tbody>\n",
       "</table>\n",
       "<p>150 rows × 6 columns</p>\n",
       "</div>"
      ],
      "text/plain": [
       "     Sepal.Length  Sepal.Width  Petal.Length  Petal.Width    Species   \n",
       "0             5.1          3.5           1.4          0.2     setosa  \\\n",
       "1             4.9          3.0           1.4          0.2     setosa   \n",
       "2             4.7          3.2           1.3          0.2     setosa   \n",
       "3             4.6          3.1           1.5          0.2     setosa   \n",
       "4             5.0          3.6           1.4          0.2     setosa   \n",
       "..            ...          ...           ...          ...        ...   \n",
       "145           6.7          3.0           5.2          2.3  virginica   \n",
       "146           6.3          2.5           5.0          1.9  virginica   \n",
       "147           6.5          3.0           5.2          2.0  virginica   \n",
       "148           6.2          3.4           5.4          2.3  virginica   \n",
       "149           5.9          3.0           5.1          1.8  virginica   \n",
       "\n",
       "     TotalArea  \n",
       "0        18.13  \n",
       "1        14.98  \n",
       "2        15.30  \n",
       "3        14.56  \n",
       "4        18.28  \n",
       "..         ...  \n",
       "145      32.06  \n",
       "146      25.25  \n",
       "147      29.90  \n",
       "148      33.50  \n",
       "149      26.88  \n",
       "\n",
       "[150 rows x 6 columns]"
      ]
     },
     "metadata": {},
     "output_type": "display_data"
    },
    {
     "data": {
      "text/plain": [
       "array([[18.13, 14.98, 15.3 , 14.56, 18.28, 21.74, 16.06, 17.3 , 13.04,\n",
       "        15.34, 20.28, 16.64, 14.54, 13.01, 23.44, 25.68, 21.58, 18.27,\n",
       "        22.17, 19.83, 18.7 , 19.47, 16.76, 17.68, 16.7 , 15.32, 17.64,\n",
       "        18.5 , 17.96, 15.36, 15.2 , 18.96, 21.47, 23.38, 15.49, 16.24,\n",
       "        19.51, 17.78, 13.46, 17.64, 17.89, 10.74, 14.34, 18.46, 20.14,\n",
       "        14.82, 19.7 , 15.  , 19.91, 16.78],\n",
       "       [28.98, 27.23, 28.74, 17.85, 25.1 , 21.81, 28.31, 15.06, 25.12,\n",
       "        19.5 , 13.5 , 24.  , 17.2 , 24.27, 20.92, 26.93, 23.55, 19.76,\n",
       "        20.39, 18.29, 27.52, 22.28, 23.1 , 22.72, 24.15, 25.96, 25.76,\n",
       "        28.6 , 24.15, 18.32, 17.38, 16.9 , 20.34, 24.36, 22.95, 27.6 ,\n",
       "        27.82, 20.21, 22.13, 18.95, 19.58, 24.74, 19.88, 14.8 , 20.58,\n",
       "        22.14, 21.99, 23.57, 16.05, 21.29],\n",
       "       [35.79, 25.35, 33.69, 28.35, 32.26, 36.66, 19.9 , 32.51, 27.19,\n",
       "        41.17, 31.  , 27.35, 31.95, 24.25, 28.48, 32.67, 29.4 , 44.  ,\n",
       "        35.89, 20.7 , 35.19, 25.48, 34.96, 25.83, 34.08, 33.84, 26.  ,\n",
       "        27.12, 29.68, 30.88, 32.31, 42.82, 30.24, 25.29, 23.7 , 37.13,\n",
       "        34.86, 29.74, 26.64, 32.73, 34.21, 33.12, 25.35, 35.33, 36.36,\n",
       "        32.06, 25.25, 29.9 , 33.5 , 26.88]])"
      ]
     },
     "execution_count": 1,
     "metadata": {},
     "output_type": "execute_result"
    }
   ],
   "source": [
    "import pandas as pd\n",
    "import numpy as np\n",
    "\n",
    "df = pd.read_csv(\"iris.csv\")\n",
    "df[\"TotalArea\"] = df[\"Sepal.Length\"] * df[\"Sepal.Width\"] + df[\"Petal.Length\"] * df[\"Petal.Width\"]\n",
    "display(df)\n",
    "\n",
    "splitted = np.array(list(map(lambda x: x[1], df.groupby(\"Species\")[\"TotalArea\"])))\n",
    "splitted"
   ]
  },
  {
   "cell_type": "markdown",
   "metadata": {},
   "source": [
    "## Формулировка гипотезы\n",
    "\n",
    "$H_0$: Средняя площадь чашелистика + цветка равна у разных подвидов ириса\n",
    "\n",
    "$H_1$: Средняя площадь чашелистика + цветка отличается у разных подвидов ириса"
   ]
  },
  {
   "cell_type": "markdown",
   "metadata": {},
   "source": [
    "### Проверка библиотечным методом"
   ]
  },
  {
   "cell_type": "code",
   "execution_count": 2,
   "metadata": {},
   "outputs": [
    {
     "data": {
      "text/plain": [
       "F_onewayResult(statistic=133.29723648348485, pvalue=9.540732260908254e-34)"
      ]
     },
     "execution_count": 2,
     "metadata": {},
     "output_type": "execute_result"
    }
   ],
   "source": [
    "from scipy.stats import f_oneway\n",
    "\n",
    "f_oneway(*splitted)"
   ]
  },
  {
   "cell_type": "markdown",
   "metadata": {},
   "source": [
    "$\\text{p-value} \\ \\ll 0.05 \\Rightarrow H_0 \\ \\text{опровергнута в пользу} \\ H_1$ "
   ]
  },
  {
   "cell_type": "markdown",
   "metadata": {},
   "source": [
    "### Реализация"
   ]
  },
  {
   "cell_type": "code",
   "execution_count": 3,
   "metadata": {},
   "outputs": [
    {
     "data": {
      "text/plain": [
       "{'F-statistic': 133.29723648348494, 'p-value': 1.1102230246251565e-16}"
      ]
     },
     "execution_count": 3,
     "metadata": {},
     "output_type": "execute_result"
    }
   ],
   "source": [
    "from scipy.special import betainc\n",
    "\n",
    "def anova(data: np.ndarray):\n",
    "    I = data.size\n",
    "    J = len(data)\n",
    "    m = data.mean()\n",
    "    s = data.var()\n",
    "    \n",
    "    def calc_SSBetweenGroups(data):\n",
    "        l = 0\n",
    "        for group in data:\n",
    "            l += group.sum() ** 2 / len(group)  \n",
    "        \n",
    "        r = data.sum() ** 2 / I\n",
    "        \n",
    "        return l - r\n",
    "        \n",
    "    def calc_SSInGroups(data):\n",
    "        l = (data ** 2).sum()\n",
    "        \n",
    "        r = 0\n",
    "        for group in data:\n",
    "            r += group.sum() ** 2 / len(group)  \n",
    "        \n",
    "        return l - r\n",
    "    \n",
    "    def f_cdf(x, a, b):\n",
    "        return betainc(a / 2, b / 2, a * x / (a * x + b))\n",
    "    \n",
    "    SSBetweenGroups = calc_SSBetweenGroups(data)\n",
    "    SSInGroups = calc_SSInGroups(data)\n",
    "    \n",
    "    DFBetweenGroups = J - 1\n",
    "    DFInGroups = I - J\n",
    "\n",
    "    MSBetweenGroups = SSBetweenGroups / DFBetweenGroups\n",
    "    MSInGroups = SSInGroups / DFInGroups\n",
    "    \n",
    "    F = MSBetweenGroups / MSInGroups\n",
    "    p_value = 1 - f_cdf(F, DFBetweenGroups, DFInGroups)\n",
    "    return {\n",
    "        \"F-statistic\": F,\n",
    "        \"p-value\": p_value,\n",
    "    }\n",
    "\n",
    "anova(splitted)"
   ]
  },
  {
   "cell_type": "markdown",
   "metadata": {},
   "source": [
    "Мы видим, что значение p-value значительно меньше 0.05, таким образом, гипотеза $H_0$ опровергается, и мы говорим, что площадь не может не зависеть от сорта ириса."
   ]
  }
 ],
 "metadata": {
  "kernelspec": {
   "display_name": "Python 3",
   "language": "python",
   "name": "python3"
  },
  "language_info": {
   "codemirror_mode": {
    "name": "ipython",
    "version": 3
   },
   "file_extension": ".py",
   "mimetype": "text/x-python",
   "name": "python",
   "nbconvert_exporter": "python",
   "pygments_lexer": "ipython3",
   "version": "3.11.6"
  }
 },
 "nbformat": 4,
 "nbformat_minor": 2
}
